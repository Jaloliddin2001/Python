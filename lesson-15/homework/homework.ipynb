{
 "cells": [
  {
   "cell_type": "markdown",
   "metadata": {},
   "source": [
    "### 1. Create a new database with a table named Roster that has three fields: Name, Species, and Age. The Name and Species columns should be text fields, and the Age column should be an integer field."
   ]
  },
  {
   "cell_type": "code",
   "execution_count": 1,
   "metadata": {},
   "outputs": [],
   "source": [
    "import sqlite3\n",
    "\n",
    "connection = sqlite3.connect(\"sample_db.db\")\n",
    "\n",
    "cursor = connection.cursor()\n",
    "\n",
    "query = \"\"\"create table if not exists Roster (Name varchar(50),\n",
    "                                Species varchar(50),\n",
    "                                Age int)\"\"\"\n",
    "\n",
    "cursor.execute(query)\n",
    "\n",
    "connection.commit()\n",
    "connection.close()\n",
    "\n"
   ]
  },
  {
   "cell_type": "markdown",
   "metadata": {},
   "source": [
    "### 2. Populate your new table with the following values:"
   ]
  },
  {
   "cell_type": "code",
   "execution_count": 2,
   "metadata": {},
   "outputs": [],
   "source": [
    "import sqlite3\n",
    "\n",
    "connection = sqlite3.connect(\"sample_db.db\")\n",
    "cursor = connection.cursor()\n",
    "\n",
    "insert_query = \"\"\"\n",
    "INSERT INTO Roster (Name, Species, Age) VALUES\n",
    "    ('Benjamin Sisko', 'Human', 40),\n",
    "    ('Jadzia Dax', 'Trill', 300),\n",
    "    ('Kira Nerys', 'Bajoran', 29);\n",
    "\"\"\"\n",
    "\n",
    "cursor.execute(insert_query)\n",
    "\n",
    "connection.commit()\n",
    "connection.close()"
   ]
  },
  {
   "cell_type": "code",
   "execution_count": null,
   "metadata": {},
   "outputs": [],
   "source": [
    "import sqlite3\n",
    "\n",
    "with sqlite3.connect(\"sample_db.db\") as connection:\n",
    "    cursor = connection.cursor()\n",
    "\n",
    "    insert_query = \"\"\"Insert into Roster values (\"Benjamin Sisko\", \"Human\", 40),\n",
    "                                            (\"Jadzia Dax\", \"Trill\", 300),\n",
    "                                            (\"Kira Nerys\", \"Bajoran\", 29)\"\"\"\n",
    "\n",
    "    cursor.executescript(insert_query)\n",
    "\n"
   ]
  },
  {
   "cell_type": "markdown",
   "metadata": {},
   "source": [
    "### 3. Update the Name of Jadzia Dax to be Ezri Dax"
   ]
  },
  {
   "cell_type": "code",
   "execution_count": 5,
   "metadata": {},
   "outputs": [],
   "source": [
    "import sqlite3\n",
    "\n",
    "with sqlite3.connect(\"sample_db.db\") as connection:\n",
    "    cursor = connection.cursor()\n",
    "\n",
    "    update_query = \"\"\"UPDATE Roster\n",
    "                      SET Name = 'Ezri Dax'\n",
    "                      WHERE Name = 'Jadzia Dax'\n",
    "    \"\"\"\n",
    "\n",
    "    cursor.execute(update_query)\n",
    "    connection.commit()"
   ]
  },
  {
   "cell_type": "markdown",
   "metadata": {},
   "source": [
    "### 4. Display the Name and Age of everyone in the table classified as Bajoran."
   ]
  },
  {
   "cell_type": "code",
   "execution_count": 9,
   "metadata": {},
   "outputs": [
    {
     "name": "stdout",
     "output_type": "stream",
     "text": [
      "Name: Kira Nerys, Age: 29\n"
     ]
    }
   ],
   "source": [
    "import sqlite3\n",
    "\n",
    "with sqlite3.connect(\"sample_db.db\") as conn:\n",
    "    cursor = conn.cursor()\n",
    "\n",
    "    sql_query = \"\"\"\n",
    "        SELECT Name, Age\n",
    "        FROM Roster\n",
    "        WHERE Species = 'Bajoran';\n",
    "    \"\"\"\n",
    "\n",
    "    cursor.execute(sql_query)\n",
    "\n",
    "    results = cursor.fetchall()\n",
    "\n",
    "    for name, age in results:\n",
    "        print(f\"Name: {name}, Age: {age}\")"
   ]
  }
 ],
 "metadata": {
  "kernelspec": {
   "display_name": "base",
   "language": "python",
   "name": "python3"
  },
  "language_info": {
   "codemirror_mode": {
    "name": "ipython",
    "version": 3
   },
   "file_extension": ".py",
   "mimetype": "text/x-python",
   "name": "python",
   "nbconvert_exporter": "python",
   "pygments_lexer": "ipython3",
   "version": "3.12.7"
  }
 },
 "nbformat": 4,
 "nbformat_minor": 2
}

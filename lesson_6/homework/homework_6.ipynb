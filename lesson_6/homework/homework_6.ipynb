{
 "cells": [
  {
   "cell_type": "markdown",
   "metadata": {},
   "source": [
    "## 1. Modify String with Underscores\n",
    "Given a string txt, insert an underscore (_) after every third character. If a character is a vowel or already has an underscore after it, shift the underscore placement to the next character. No underscore should be added at the end.\n",
    "\n",
    "Examples\n",
    "Input: hello Output: hel_lo\n",
    "\n",
    "Input: assalom Output: ass_alom\n",
    "\n",
    "Input: abcabcabcdeabcdefabcdefg Output: abc_abc_abcd_abcd_abcdef"
   ]
  },
  {
   "cell_type": "code",
   "execution_count": 5,
   "metadata": {},
   "outputs": [
    {
     "name": "stdout",
     "output_type": "stream",
     "text": [
      "Modified string: Jalo_lid_din\n"
     ]
    }
   ],
   "source": [
    "txt = input(\"Enter a string: \")\n",
    "result = \"\"\n",
    "count = 0\n",
    "i = 0\n",
    "\n",
    "while i < len(txt):\n",
    "    result += txt[i]\n",
    "    count += 1\n",
    "\n",
    "    if count == 3:\n",
    "        if i + 1 < len(txt) and (txt[i + 1] in \"aeiou\" or txt[i + 1] == \"_\"):\n",
    "            result += txt[i + 1]\n",
    "            result += \"_\"\n",
    "            i += 1\n",
    "        else:\n",
    "            result += \"_\"\n",
    "        count = 0\n",
    "    i += 1\n",
    "\n",
    "if result.endswith(\"_\"):\n",
    "    result = result[:-1]\n",
    "\n",
    "print(\"Modified string:\", result)\n"
   ]
  },
  {
   "cell_type": "markdown",
   "metadata": {},
   "source": [
    "2. Integer Squares Exercise\n",
    "Task\n",
    "The provided code stub reads an integer, n, from STDIN. For all non-negative integers i where 0 <= i < n, print i^2.\n",
    "\n",
    "Example Input\n",
    "5\n",
    "Example Output\n",
    "0\n",
    "1\n",
    "4\n",
    "9\n",
    "16\n",
    "Input Format\n",
    "The first and only line contains the integer, n.\n",
    "\n",
    "Constraints\n",
    "1 <= n <= 20\n",
    "Output Format\n",
    "Print n lines, one corresponding to each i^2 where 0 <= i < n."
   ]
  },
  {
   "cell_type": "code",
   "execution_count": 10,
   "metadata": {},
   "outputs": [
    {
     "name": "stdout",
     "output_type": "stream",
     "text": [
      "0\n",
      "1\n",
      "4\n",
      "9\n",
      "16\n",
      "25\n",
      "36\n",
      "49\n",
      "64\n",
      "81\n",
      "100\n",
      "121\n"
     ]
    }
   ],
   "source": [
    "n = int(input('Enter a number'))\n",
    "\n",
    "for x in range(n):\n",
    "    print(x * x)"
   ]
  },
  {
   "cell_type": "markdown",
   "metadata": {},
   "source": [
    "3. Loop-Based Exercises\n",
    "Exercise 1: Print first 10 natural numbers using a while loop\n",
    "Exercise 2: Print the following pattern\n",
    "1\n",
    "1 2\n",
    "1 2 3\n",
    "1 2 3 4\n",
    "1 2 3 4 5\n",
    "Exercise 3: Calculate sum of all numbers from 1 to a given number\n",
    "Example:\n",
    "\n",
    "Enter number 10\n",
    "Sum is: 55"
   ]
  },
  {
   "cell_type": "code",
   "execution_count": 12,
   "metadata": {},
   "outputs": [
    {
     "name": "stdout",
     "output_type": "stream",
     "text": [
      "1\n",
      "2\n",
      "3\n",
      "4\n",
      "5\n",
      "6\n",
      "7\n",
      "8\n",
      "9\n",
      "10\n"
     ]
    }
   ],
   "source": [
    "i = 1\n",
    "\n",
    "while i <= 10:\n",
    "    print(i)\n",
    "    i += 1"
   ]
  },
  {
   "cell_type": "code",
   "execution_count": 15,
   "metadata": {},
   "outputs": [
    {
     "name": "stdout",
     "output_type": "stream",
     "text": [
      "1 \n",
      "1 2 \n",
      "1 2 3 \n",
      "1 2 3 4 \n",
      "1 2 3 4 5 \n"
     ]
    }
   ],
   "source": [
    "for i in range(1, 6): \n",
    "    for j in range(1, i + 1): \n",
    "        print(j, end=\" \")\n",
    "    print()  "
   ]
  },
  {
   "cell_type": "code",
   "execution_count": 17,
   "metadata": {},
   "outputs": [
    {
     "name": "stdout",
     "output_type": "stream",
     "text": [
      "Sum is: 55\n"
     ]
    }
   ],
   "source": [
    "n = int(input(\"Enter number: \"))\n",
    "\n",
    "total = 0\n",
    "for i in range(1, n + 1):\n",
    "    total += i\n",
    "\n",
    "print(\"Sum is:\", total)"
   ]
  },
  {
   "cell_type": "markdown",
   "metadata": {},
   "source": [
    "Exercise 4: Print multiplication table of a given number\n",
    "Example:\n",
    "\n",
    "2\n",
    "4\n",
    "6\n",
    "8\n",
    "10\n",
    "12\n",
    "14\n",
    "16\n",
    "18\n",
    "20"
   ]
  },
  {
   "cell_type": "code",
   "execution_count": 19,
   "metadata": {},
   "outputs": [
    {
     "name": "stdout",
     "output_type": "stream",
     "text": [
      "2\n",
      "4\n",
      "6\n",
      "8\n",
      "10\n",
      "12\n",
      "14\n",
      "16\n",
      "18\n",
      "20\n"
     ]
    }
   ],
   "source": [
    "n = int(input())\n",
    "\n",
    "for x in range(1, n+1):\n",
    "    print(x*2)"
   ]
  },
  {
   "cell_type": "markdown",
   "metadata": {},
   "source": [
    "Exercise 5: Display numbers from a list using a loop\n",
    "Given:\n",
    "\n",
    "numbers = [12, 75, 150, 180, 145, 525, 50]\n",
    "Expected Output:\n",
    "\n",
    "75\n",
    "150\n",
    "145"
   ]
  },
  {
   "cell_type": "code",
   "execution_count": 23,
   "metadata": {},
   "outputs": [
    {
     "name": "stdout",
     "output_type": "stream",
     "text": [
      "75\n",
      "150\n",
      "145\n"
     ]
    }
   ],
   "source": [
    "numbers = [12, 75, 150, 180, 145, 525, 50]\n",
    "\n",
    "for num in numbers:\n",
    "    if num > 500:\n",
    "        break  \n",
    "    if num % 5 == 0:\n",
    "        if num > 150:\n",
    "            continue  \n",
    "        print(num)"
   ]
  },
  {
   "cell_type": "markdown",
   "metadata": {},
   "source": [
    "Exercise 6: Count the total number of digits in a number\n",
    "Example:\n",
    "\n",
    "75869\n",
    "Output: 5"
   ]
  },
  {
   "cell_type": "code",
   "execution_count": 25,
   "metadata": {},
   "outputs": [
    {
     "name": "stdout",
     "output_type": "stream",
     "text": [
      "Output: 3\n"
     ]
    }
   ],
   "source": [
    "num = input(\"Enter a number\")\n",
    "count = len(num)\n",
    "print(\"Output:\", count)"
   ]
  },
  {
   "cell_type": "markdown",
   "metadata": {},
   "source": [
    "Exercise 7: Print reverse number pattern\n",
    "5 4 3 2 1\n",
    "4 3 2 1\n",
    "3 2 1\n",
    "2 1\n",
    "1"
   ]
  },
  {
   "cell_type": "code",
   "execution_count": 28,
   "metadata": {},
   "outputs": [
    {
     "name": "stdout",
     "output_type": "stream",
     "text": [
      "1 2 3 4 5 \n",
      "1 2 3 4 \n",
      "1 2 3 \n",
      "1 2 \n",
      "1 \n"
     ]
    }
   ],
   "source": [
    "for i in range(5, 0, -1): \n",
    "    for j in range(1, i + 1): \n",
    "        print(j, end=\" \")\n",
    "    print() "
   ]
  },
  {
   "cell_type": "markdown",
   "metadata": {},
   "source": [
    "Exercise 8: Print list in reverse order using a loop\n",
    "Given:\n",
    "\n",
    "list1 = [10, 20, 30, 40, 50]\n",
    "Expected Output:\n",
    "\n",
    "50\n",
    "40\n",
    "30\n",
    "20\n",
    "10"
   ]
  },
  {
   "cell_type": "code",
   "execution_count": 29,
   "metadata": {},
   "outputs": [
    {
     "name": "stdout",
     "output_type": "stream",
     "text": [
      "50\n",
      "40\n",
      "30\n",
      "20\n",
      "10\n"
     ]
    }
   ],
   "source": [
    "list1 = [10, 20, 30, 40, 50]\n",
    "\n",
    "for i in list1[::-1]:\n",
    "    print(i)"
   ]
  },
  {
   "cell_type": "markdown",
   "metadata": {},
   "source": [
    "Exercise 9: Display numbers from -10 to -1 using a for loop\n",
    "-10\n",
    "-9\n",
    "-8\n",
    "-7\n",
    "-6\n",
    "-5\n",
    "-4\n",
    "-3\n",
    "-2\n",
    "-1"
   ]
  },
  {
   "cell_type": "code",
   "execution_count": 30,
   "metadata": {},
   "outputs": [
    {
     "name": "stdout",
     "output_type": "stream",
     "text": [
      "-10\n",
      "-9\n",
      "-8\n",
      "-7\n",
      "-6\n",
      "-5\n",
      "-4\n",
      "-3\n",
      "-2\n",
      "-1\n"
     ]
    }
   ],
   "source": [
    "for i in range(-10, 0):  \n",
    "    print(i)"
   ]
  },
  {
   "cell_type": "markdown",
   "metadata": {},
   "source": [
    "Exercise 10: Display message “Done” after successful loop execution\n",
    "Example:\n",
    "\n",
    "0\n",
    "1\n",
    "2\n",
    "3\n",
    "4\n",
    "Done!"
   ]
  },
  {
   "cell_type": "code",
   "execution_count": 31,
   "metadata": {},
   "outputs": [
    {
     "name": "stdout",
     "output_type": "stream",
     "text": [
      "0\n",
      "1\n",
      "2\n",
      "3\n",
      "4\n",
      "Done\n"
     ]
    }
   ],
   "source": [
    "for i in range(5):\n",
    "    print(i)\n",
    "    continue\n",
    "print(\"Done\")"
   ]
  },
  {
   "cell_type": "markdown",
   "metadata": {},
   "source": [
    "Exercise 11: Print all prime numbers within a range\n",
    "Example:\n",
    "\n",
    "Prime numbers between 25 and 50:\n",
    "29\n",
    "31\n",
    "37\n",
    "41\n",
    "43\n",
    "47"
   ]
  },
  {
   "cell_type": "code",
   "execution_count": null,
   "metadata": {},
   "outputs": [
    {
     "name": "stdout",
     "output_type": "stream",
     "text": [
      "29\n",
      "31\n",
      "37\n",
      "41\n",
      "43\n",
      "47\n"
     ]
    }
   ],
   "source": [
    "start = 25\n",
    "end = 50\n",
    "\n",
    "for num in range(25, 50):\n",
    "    if num > 1:  \n",
    "        is_prime = True\n",
    "\n",
    "        for i in range(2, int(num ** 0.5) + 1):  \n",
    "            if num % i == 0:\n",
    "                is_prime = False\n",
    "                break\n",
    "\n",
    "        if is_prime:\n",
    "            print(num)"
   ]
  },
  {
   "cell_type": "markdown",
   "metadata": {},
   "source": [
    "Exercise 12: Display Fibonacci series up to 10 terms\n",
    "Example:\n",
    "\n",
    "Fibonacci sequence:\n",
    "0  1  1  2  3  5  8  13  21  34"
   ]
  },
  {
   "cell_type": "code",
   "execution_count": 38,
   "metadata": {},
   "outputs": [
    {
     "name": "stdout",
     "output_type": "stream",
     "text": [
      "0 1 1 2 3 5 8 13 21 34 "
     ]
    }
   ],
   "source": [
    "a = 0\n",
    "b = 1\n",
    "\n",
    "for i in range(10):\n",
    "    print(a, end=\" \")\n",
    "    c = a + b  \n",
    "    a = b      \n",
    "    b = c"
   ]
  },
  {
   "cell_type": "markdown",
   "metadata": {},
   "source": [
    "Exercise 13: Find the factorial of a given number\n",
    "Example:\n",
    "\n",
    "5! = 120"
   ]
  },
  {
   "cell_type": "code",
   "execution_count": 39,
   "metadata": {},
   "outputs": [
    {
     "name": "stdout",
     "output_type": "stream",
     "text": [
      "23! = 25852016738884976640000\n"
     ]
    }
   ],
   "source": [
    "num = int(input(\"Enter a number: \"))\n",
    "\n",
    "factorial = 1\n",
    "\n",
    "for i in range(1, num + 1):\n",
    "    factorial *= i  \n",
    "\n",
    "print(f\"{num}! = {factorial}\")"
   ]
  },
  {
   "cell_type": "markdown",
   "metadata": {},
   "source": [
    "4. Return Uncommon Elements of Lists\n",
    "Task\n",
    "Return the elements that are not common between two lists. The order of elements does not matter.\n",
    "\n",
    "Examples\n",
    "Input: list1 = [1, 1, 2], list2 = [2, 3, 4]\n",
    "Output: [1, 1, 3, 4]\n",
    "\n",
    "Input: list1 = [1, 2, 3], list2 = [4, 5, 6]\n",
    "Output: [1, 2, 3, 4, 5, 6]\n",
    "\n",
    "Input: list1 = [1, 1, 2, 3, 4, 2], list2 = [1, 3, 4, 5]\n",
    "Output: [2, 2, 5]"
   ]
  },
  {
   "cell_type": "code",
   "execution_count": 40,
   "metadata": {},
   "outputs": [
    {
     "name": "stdout",
     "output_type": "stream",
     "text": [
      "[2, 2, 5]\n"
     ]
    }
   ],
   "source": [
    "list1 = [1, 1, 2, 3, 4, 2]\n",
    "list2 = [1, 3, 4, 5]\n",
    "\n",
    "result = []\n",
    "\n",
    "for x in list1:\n",
    "    if x not in list2:\n",
    "        result.append(x)\n",
    "\n",
    "for y in list2:\n",
    "    if y not in list1:\n",
    "        result.append(y)\n",
    "\n",
    "print(result)"
   ]
  },
  {
   "cell_type": "code",
   "execution_count": null,
   "metadata": {},
   "outputs": [],
   "source": []
  }
 ],
 "metadata": {
  "kernelspec": {
   "display_name": "base",
   "language": "python",
   "name": "python3"
  },
  "language_info": {
   "codemirror_mode": {
    "name": "ipython",
    "version": 3
   },
   "file_extension": ".py",
   "mimetype": "text/x-python",
   "name": "python",
   "nbconvert_exporter": "python",
   "pygments_lexer": "ipython3",
   "version": "3.12.7"
  }
 },
 "nbformat": 4,
 "nbformat_minor": 2
}

{
 "cells": [
  {
   "cell_type": "markdown",
   "metadata": {},
   "source": [
    "## Object-Oriented Programming (OOP) Exercises"
   ]
  },
  {
   "cell_type": "markdown",
   "metadata": {},
   "source": [
    "#### 1. Circle Class\n",
    "Write a Python program to create a class representing a Circle. Include methods to calculate its area and perimeter."
   ]
  },
  {
   "cell_type": "code",
   "execution_count": 13,
   "metadata": {},
   "outputs": [
    {
     "data": {
      "text/plain": [
       "146.952"
      ]
     },
     "execution_count": 13,
     "metadata": {},
     "output_type": "execute_result"
    }
   ],
   "source": [
    "class Circle:\n",
    "    pi = 3.14\n",
    "\n",
    "    def __init__(self, radius):\n",
    "        self.radius = radius\n",
    "\n",
    "    def area(self):\n",
    "        return Circle.pi * self.radius ** 2\n",
    "    \n",
    "    def perimeter(self):\n",
    "        return 2 * Circle.pi * self.radius\n",
    "    \n",
    "r = float(input(\"Enter the radius of the Circle: \"))\n",
    "\n",
    "my_circle = Circle(r)\n",
    "\n",
    "my_circle.area()\n",
    "my_circle.perimeter()\n"
   ]
  },
  {
   "cell_type": "markdown",
   "metadata": {},
   "source": [
    "#### 2. Person Class\n",
    "Write a Python program to create a Person class. Include attributes like name, country, and date of birth. Implement a method to determine the person's age."
   ]
  },
  {
   "cell_type": "code",
   "execution_count": 16,
   "metadata": {},
   "outputs": [
    {
     "name": "stdout",
     "output_type": "stream",
     "text": [
      "\n",
      "Name: Jalol\n",
      "Country: Uzbekistan\n",
      "Age: 24 years\n"
     ]
    }
   ],
   "source": [
    "class Person:\n",
    "\n",
    "    def __init__(self, name, country, date_of_birth):\n",
    "        self.name = name\n",
    "        self.country = country\n",
    "        self.date_of_birth = date_of_birth\n",
    "\n",
    "    def get_age(self, current_year):\n",
    "        return current_year - self.date_of_birth\n",
    "    \n",
    "name = input(\"Enter your name: \")\n",
    "country = input(\"Enter your country: \")\n",
    "birth_year = int(input(\"Enter your birth year: \"))\n",
    "current_year = int(input(\"Enter the current year: \"))\n",
    "\n",
    "person = Person(name, country, birth_year)\n",
    "\n",
    "print(\"\\nName:\", person.name)\n",
    "print(\"Country:\", person.country)\n",
    "print(\"Age:\", person.get_age(current_year), \"years\")\n",
    "\n",
    "        "
   ]
  },
  {
   "cell_type": "markdown",
   "metadata": {},
   "source": [
    "#### 3. Calculator Class\n",
    "Write a Python program to create a Calculator class. Include methods for basic arithmetic operations.\n",
    "\n"
   ]
  },
  {
   "cell_type": "code",
   "execution_count": 17,
   "metadata": {},
   "outputs": [
    {
     "name": "stdout",
     "output_type": "stream",
     "text": [
      "Addition: 66.0\n",
      "Subtraction: -20.0\n",
      "Multiplication: 989.0\n",
      "Division: 0.5348837209302325\n"
     ]
    }
   ],
   "source": [
    "class Calculator:\n",
    "    def add(self, a, b):\n",
    "        return a + b\n",
    "\n",
    "    def subtract(self, a, b):\n",
    "        return a - b\n",
    "\n",
    "    def multiply(self, a, b):\n",
    "        return a * b\n",
    "\n",
    "    def divide(self, a, b):\n",
    "        if b != 0:\n",
    "            return a / b\n",
    "        else:\n",
    "            return \"Error: Division by zero\"\n",
    "        \n",
    "calc = Calculator()\n",
    "\n",
    "a = float(input(\"Enter first number: \"))\n",
    "b = float(input(\"Enter second number: \"))\n",
    "\n",
    "print(\"Addition:\", calc.add(a, b))\n",
    "print(\"Subtraction:\", calc.subtract(a, b))\n",
    "print(\"Multiplication:\", calc.multiply(a, b))\n",
    "print(\"Division:\", calc.divide(a, b))"
   ]
  },
  {
   "cell_type": "markdown",
   "metadata": {},
   "source": [
    "#### 4. Shape and Subclasses\n",
    "Write a Python program to create a class that represents a shape. Include methods to calculate its area and perimeter. Implement subclasses for different shapes like Circle, Triangle, and Square."
   ]
  },
  {
   "cell_type": "code",
   "execution_count": 18,
   "metadata": {},
   "outputs": [
    {
     "name": "stdout",
     "output_type": "stream",
     "text": [
      "Circle:\n",
      "Area: 78.5\n",
      "Perimeter: 31.400000000000002\n",
      "\n",
      "Square:\n",
      "Area: 16\n",
      "Perimeter: 16\n",
      "\n",
      "Triangle:\n",
      "Area: 12.0\n",
      "Perimeter: 12\n"
     ]
    }
   ],
   "source": [
    "class Shape:\n",
    "    def area(self):\n",
    "        return 0\n",
    "\n",
    "    def perimeter(self):\n",
    "        return 0\n",
    "\n",
    "\n",
    "class Circle(Shape):\n",
    "    pi = 3.14\n",
    "\n",
    "    def __init__(self, radius):\n",
    "        self.radius = radius\n",
    "\n",
    "    def area(self):\n",
    "        return Circle.pi * self.radius ** 2\n",
    "\n",
    "    def perimeter(self):\n",
    "        return 2 * Circle.pi * self.radius\n",
    "\n",
    "\n",
    "class Square(Shape):\n",
    "    def __init__(self, side):\n",
    "        self.side = side\n",
    "\n",
    "    def area(self):\n",
    "        return self.side ** 2\n",
    "\n",
    "    def perimeter(self):\n",
    "        return 4 * self.side\n",
    "\n",
    "\n",
    "class Triangle(Shape):\n",
    "    def __init__(self, a, b, c, height=None):\n",
    "        self.a = a\n",
    "        self.b = b\n",
    "        self.c = c\n",
    "        self.height = height\n",
    "\n",
    "    def area(self):\n",
    "        if self.height is not None:\n",
    "            return 0.5 * self.b * self.height\n",
    "        else:\n",
    "            return \"Height required for area.\"\n",
    "\n",
    "    def perimeter(self):\n",
    "        return self.a + self.b + self.c\n",
    "\n",
    "print(\"Circle:\")\n",
    "circle = Circle(5)\n",
    "print(\"Area:\", circle.area())\n",
    "print(\"Perimeter:\", circle.perimeter())\n",
    "\n",
    "print(\"\\nSquare:\")\n",
    "square = Square(4)\n",
    "print(\"Area:\", square.area())\n",
    "print(\"Perimeter:\", square.perimeter())\n",
    "\n",
    "print(\"\\nTriangle:\")\n",
    "triangle = Triangle(3, 4, 5, height=6)\n",
    "print(\"Area:\", triangle.area())\n",
    "print(\"Perimeter:\", triangle.perimeter())"
   ]
  },
  {
   "cell_type": "markdown",
   "metadata": {},
   "source": [
    "#### 5. Binary Search Tree Class\n",
    "Write a Python program to create a class representing a binary search tree. Include methods for inserting and searching for elements in the binary tree."
   ]
  },
  {
   "cell_type": "markdown",
   "metadata": {},
   "source": [
    "#### 6. Stack Data Structure\n",
    "Write a Python program to create a class representing a stack data structure. Include methods for pushing and popping elements."
   ]
  },
  {
   "cell_type": "markdown",
   "metadata": {},
   "source": [
    "#### 7. Linked List Data Structure\n",
    "Write a Python program to create a class representing a linked list data structure. Include methods for displaying linked list data, inserting, and deleting nodes."
   ]
  },
  {
   "cell_type": "markdown",
   "metadata": {},
   "source": [
    "#### 8. Shopping Cart Class\n",
    "Write a Python program to create a class representing a shopping cart. Include methods for adding and removing items, and calculating the total price."
   ]
  },
  {
   "cell_type": "code",
   "execution_count": 19,
   "metadata": {},
   "outputs": [
    {
     "name": "stdout",
     "output_type": "stream",
     "text": [
      "Added Apple - $1.20\n",
      "Added Milk - $2.50\n",
      "Added Bread - $1.80\n",
      "Items in your cart:\n",
      "Apple: $1.20\n",
      "Milk: $2.50\n",
      "Bread: $1.80\n",
      "Total: $5.50\n",
      "Removed Milk\n",
      "Items in your cart:\n",
      "Apple: $1.20\n",
      "Bread: $1.80\n",
      "Total: $3.00\n"
     ]
    }
   ],
   "source": [
    "class ShoppingCart:\n",
    "    def __init__(self):\n",
    "        self.items = {}\n",
    "\n",
    "    def add_item(self, item_name, price):\n",
    "        self.items[item_name] = price\n",
    "        print(f\"Added {item_name} - ${price:.2f}\")\n",
    "\n",
    "    def remove_item(self, item_name):\n",
    "        if item_name in self.items:\n",
    "            del self.items[item_name]\n",
    "            print(f\"Removed {item_name}\")\n",
    "        else:\n",
    "            print(f\"{item_name} not found in cart.\")\n",
    "    \n",
    "    def get_total(self):\n",
    "        return sum(self.items.values())\n",
    "    \n",
    "    def show_items(self):\n",
    "        if not self.items:\n",
    "            print(\"Shopping cart is empty.\")\n",
    "        else:\n",
    "            print(\"Items in your cart:\")\n",
    "            for item, price in self.items.items():\n",
    "                print(f\"{item}: ${price:.2f}\")\n",
    "            print(f\"Total: ${self.get_total():.2f}\")\n",
    "\n",
    "cart = ShoppingCart()\n",
    "\n",
    "cart.add_item(\"Apple\", 1.20)\n",
    "cart.add_item(\"Milk\", 2.50)\n",
    "cart.add_item(\"Bread\", 1.80)\n",
    "\n",
    "cart.show_items()\n",
    "\n",
    "cart.remove_item(\"Milk\")\n",
    "cart.show_items()"
   ]
  },
  {
   "cell_type": "markdown",
   "metadata": {},
   "source": [
    "#### 9. Stack with Display\n",
    "Write a Python program to create a class representing a stack data structure. Include methods for pushing,"
   ]
  },
  {
   "cell_type": "markdown",
   "metadata": {},
   "source": [
    "#### 10. Queue Data Structure\n",
    "Write a Python program to create a class representing a queue data structure. Include methods for enqueueing and dequeueing elements."
   ]
  },
  {
   "cell_type": "markdown",
   "metadata": {},
   "source": [
    "#### 11. Bank Class\n",
    "Write a Python program to create a class representing a bank. Include methods for managing customer accounts and transactions."
   ]
  },
  {
   "cell_type": "code",
   "execution_count": 20,
   "metadata": {},
   "outputs": [
    {
     "name": "stdout",
     "output_type": "stream",
     "text": [
      "Account for Alice created.\n",
      "Account for Bob created.\n",
      "Deposited $200.00 to Alice's account.\n",
      "Withdrew $100.00 from Alice's account.\n",
      "Account Number: 1001\n",
      "Name: Alice\n",
      "Balance: $600.00\n",
      "\n",
      "Insufficient funds.\n",
      "Deposited $500.00 to Bob's account.\n",
      "Account Number: 1002\n",
      "Name: Bob\n",
      "Balance: $1500.00\n"
     ]
    }
   ],
   "source": [
    "class BankAccount:\n",
    "    def __init__(self, account_number, name, balance=0):\n",
    "        self.account_number = account_number\n",
    "        self.name = name\n",
    "        self.balance = balance\n",
    "\n",
    "    def deposit(self, amount):\n",
    "        if amount > 0:\n",
    "            self.balance += amount\n",
    "            print(f\"Deposited ${amount:.2f} to {self.name}'s account.\")\n",
    "        else:\n",
    "            print(\"Invalid deposit amount.\")\n",
    "\n",
    "    def withdraw(self, amount):\n",
    "        if amount > self.balance:\n",
    "            print(\"Insufficient funds.\")\n",
    "        elif amount <= 0:\n",
    "            print(\"Invalid withdrawal amount.\")\n",
    "        else:\n",
    "            self.balance -= amount\n",
    "            print(f\"Withdrew ${amount:.2f} from {self.name}'s account.\")\n",
    "\n",
    "    def get_balance(self):\n",
    "        return self.balance\n",
    "\n",
    "    def display(self):\n",
    "        print(f\"Account Number: {self.account_number}\")\n",
    "        print(f\"Name: {self.name}\")\n",
    "        print(f\"Balance: ${self.balance:.2f}\")\n",
    "\n",
    "\n",
    "class Bank:\n",
    "    def __init__(self):\n",
    "        self.accounts = {}\n",
    "\n",
    "    def add_account(self, account_number, name, balance=0):\n",
    "        if account_number in self.accounts:\n",
    "            print(\"Account already exists.\")\n",
    "        else:\n",
    "            self.accounts[account_number] = BankAccount(account_number, name, balance)\n",
    "            print(f\"Account for {name} created.\")\n",
    "\n",
    "    def get_account(self, account_number):\n",
    "        return self.accounts.get(account_number, None)\n",
    "\n",
    "bank = Bank()\n",
    "\n",
    "bank.add_account(\"1001\", \"Alice\", 500)\n",
    "bank.add_account(\"1002\", \"Bob\", 1000)\n",
    "\n",
    "account = bank.get_account(\"1001\")\n",
    "if account:\n",
    "    account.deposit(200)\n",
    "    account.withdraw(100)\n",
    "    account.display()\n",
    "\n",
    "print()\n",
    "\n",
    "account = bank.get_account(\"1002\")\n",
    "if account:\n",
    "    account.withdraw(1500)  \n",
    "    account.deposit(500)\n",
    "    account.display()"
   ]
  }
 ],
 "metadata": {
  "kernelspec": {
   "display_name": "base",
   "language": "python",
   "name": "python3"
  },
  "language_info": {
   "codemirror_mode": {
    "name": "ipython",
    "version": 3
   },
   "file_extension": ".py",
   "mimetype": "text/x-python",
   "name": "python",
   "nbconvert_exporter": "python",
   "pygments_lexer": "ipython3",
   "version": "3.12.7"
  }
 },
 "nbformat": 4,
 "nbformat_minor": 2
}

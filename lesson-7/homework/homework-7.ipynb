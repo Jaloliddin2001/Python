{
 "cells": [
  {
   "cell_type": "markdown",
   "metadata": {},
   "source": [
    "1. is_prime(n) funksiyasi\n",
    "is_prime(n) funksiyasini hosil qiling (n > 0). Agar n soni tub bo'lsa True, aks holda False qiymat qaytarsin.\n",
    "\n",
    "Misollar:\n",
    "Kiritish:\n",
    "4\n",
    "Natija:\n",
    "False\n",
    "(Izoh: 4 soni tub emas, chunki u 2 ga bo'linadi.)\n",
    "\n",
    "Kiritish:\n",
    "7\n",
    "Natija:\n",
    "True\n",
    "(Izoh: 7 soni faqat 1 va o'ziga bo'linadi, ya'ni tub son.)"
   ]
  },
  {
   "cell_type": "code",
   "execution_count": 1,
   "metadata": {},
   "outputs": [
    {
     "data": {
      "text/plain": [
       "True"
      ]
     },
     "execution_count": 1,
     "metadata": {},
     "output_type": "execute_result"
    }
   ],
   "source": [
    "def is_prime(n):\n",
    "    if n <= 1:\n",
    "        return False\n",
    "    for i in range(2, int(n ** 0.5) + 1):\n",
    "        if n % i == 0:\n",
    "            return False\n",
    "    return True\n",
    "\n",
    "is_prime(23)"
   ]
  },
  {
   "cell_type": "markdown",
   "metadata": {},
   "source": [
    "2. digit_sum(k) funksiyasi\n",
    "digit_sum(k) funksiyasini yozing, u k sonining raqamlari yig'indisini hisoblaydi.\n",
    "\n",
    "Misollar:\n",
    "Kiritish:\n",
    "24\n",
    "Natija:\n",
    "6\n",
    "(Izoh: 24 sonining raqamlari yig'indisi: 2 + 4 = 6.)\n",
    "\n",
    "Kiritish:\n",
    "502\n",
    "Natija:\n",
    "7\n",
    "(Izoh: 502 sonining raqamlari yig'indisi: 5 + 0 + 2 = 7.)"
   ]
  },
  {
   "cell_type": "code",
   "execution_count": 4,
   "metadata": {},
   "outputs": [
    {
     "data": {
      "text/plain": [
       "10"
      ]
     },
     "execution_count": 4,
     "metadata": {},
     "output_type": "execute_result"
    }
   ],
   "source": [
    "def digit_sum(k):\n",
    "    total = 0\n",
    "    while k > 0:\n",
    "        digit = k % 10      \n",
    "        total += digit      \n",
    "        k = k // 10       \n",
    "    return total\n",
    "\n",
    "digit_sum(343)"
   ]
  },
  {
   "cell_type": "markdown",
   "metadata": {},
   "source": [
    "3. Ikki sonning darajalari\n",
    "Berilgan N sonidan oshmaydigan barcha 2 ning darajalarini (ya'ni, 2**k shaklidagi sonlarni) chop etuvchi funksiyani yozing.\n",
    "\n",
    "Misol:\n",
    "Kiritish:\n",
    "10\n",
    "Natija:\n",
    "2 4 8\n",
    "(Izoh: 10 dan kichik yoki teng bo'lgan 2 ning darajalari: 2, 4, 8.)"
   ]
  },
  {
   "cell_type": "code",
   "execution_count": 7,
   "metadata": {},
   "outputs": [
    {
     "name": "stdout",
     "output_type": "stream",
     "text": [
      "1 2 4 8 16 32 "
     ]
    }
   ],
   "source": [
    "def powers_of_two(N):\n",
    "    k = 1\n",
    "    while k <= N:\n",
    "        print(k, end=' ')\n",
    "        k = k * 2\n",
    "\n",
    "powers_of_two(56)"
   ]
  }
 ],
 "metadata": {
  "kernelspec": {
   "display_name": "base",
   "language": "python",
   "name": "python3"
  },
  "language_info": {
   "codemirror_mode": {
    "name": "ipython",
    "version": 3
   },
   "file_extension": ".py",
   "mimetype": "text/x-python",
   "name": "python",
   "nbconvert_exporter": "python",
   "pygments_lexer": "ipython3",
   "version": "3.12.7"
  }
 },
 "nbformat": 4,
 "nbformat_minor": 2
}

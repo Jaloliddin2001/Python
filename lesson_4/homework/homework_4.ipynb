{
 "cells": [
  {
   "cell_type": "markdown",
   "metadata": {},
   "source": [
    "## Python Dictionary and Set Exercises\n",
    "Dictionary Exercises\n"
   ]
  },
  {
   "cell_type": "markdown",
   "metadata": {},
   "source": [
    "### 1. Sort a Dictionary by Value\n",
    "Write a Python script to sort (ascending and descending) a dictionary by value."
   ]
  },
  {
   "cell_type": "code",
   "execution_count": 7,
   "metadata": {},
   "outputs": [
    {
     "name": "stdout",
     "output_type": "stream",
     "text": [
      "[3, 5, 7, 10]\n",
      "[10, 7, 5, 3]\n"
     ]
    }
   ],
   "source": [
    "my_dict = {\"apple\": 10, \"banana\": 5, \"cherry\": 7, \"date\": 3}\n",
    "\n",
    "asc_sorted = sorted(my_dict.values())\n",
    "desc_sorted = sorted(my_dict.values())[::-1]\n",
    "\n",
    "print(asc_sorted)\n",
    "print(desc_sorted)\n"
   ]
  },
  {
   "cell_type": "markdown",
   "metadata": {},
   "source": [
    "### 2. Add a Key to a Dictionary\n",
    "Write a Python script to add a key to a dictionary.\n",
    "\n",
    "Sample Dictionary:\n",
    "\n",
    "{0: 10, 1: 20}\n",
    "Expected Result:\n",
    "\n",
    "{0: 10, 1: 20, 2: 30}"
   ]
  },
  {
   "cell_type": "code",
   "execution_count": 8,
   "metadata": {},
   "outputs": [
    {
     "data": {
      "text/plain": [
       "{0: 10, 1: 20, 2: 30}"
      ]
     },
     "execution_count": 8,
     "metadata": {},
     "output_type": "execute_result"
    }
   ],
   "source": [
    "sample = {0: 10, 1: 20}\n",
    "\n",
    "sample[2] = 30\n",
    "\n",
    "sample"
   ]
  },
  {
   "cell_type": "markdown",
   "metadata": {},
   "source": [
    "### 3. Concatenate Multiple Dictionaries\n",
    "Write a Python script to concatenate the following dictionaries to create a new one.\n",
    "\n",
    "Sample Dictionaries:\n",
    "\n",
    "dic1 = {1: 10, 2: 20}\n",
    "dic2 = {3: 30, 4: 40}\n",
    "dic3 = {5: 50, 6: 60}\n",
    "Expected Result:\n",
    "\n",
    "{1: 10, 2: 20, 3: 30, 4: 40, 5: 50, 6: 60}"
   ]
  },
  {
   "cell_type": "code",
   "execution_count": 9,
   "metadata": {},
   "outputs": [
    {
     "name": "stdout",
     "output_type": "stream",
     "text": [
      "{1: 10, 2: 20, 3: 30, 4: 40, 5: 50, 6: 60}\n"
     ]
    }
   ],
   "source": [
    "dic1 = {1: 10, 2: 20}\n",
    "dic2 = {3: 30, 4: 40}\n",
    "dic3 = {5: 50, 6: 60}\n",
    "\n",
    "\n",
    "combined = {}\n",
    "\n",
    "combined.update(dic1)\n",
    "combined.update(dic2)\n",
    "combined.update(dic3)\n",
    "\n",
    "print(combined)"
   ]
  },
  {
   "cell_type": "markdown",
   "metadata": {},
   "source": [
    "### 4. Generate a Dictionary with Squares\n",
    "Write a Python script to generate and print a dictionary that contains a number (between 1 and n) in the form (x, x*x).\n",
    "\n",
    "Sample Dictionary (n = 5):\n",
    "\n",
    "{1: 1, 2: 4, 3: 9, 4: 16, 5: 25}"
   ]
  },
  {
   "cell_type": "code",
   "execution_count": 10,
   "metadata": {},
   "outputs": [
    {
     "name": "stdout",
     "output_type": "stream",
     "text": [
      "Generated dictionary: {1: 1, 2: 4, 3: 9, 4: 16, 5: 25, 6: 36}\n"
     ]
    }
   ],
   "source": [
    "n = int(input(\"Enter a number: \"))\n",
    "\n",
    "squares = {}\n",
    "for x in range(1, n + 1):\n",
    "    squares[x] = x * x\n",
    "\n",
    "print(\"Generated dictionary:\", squares)"
   ]
  },
  {
   "cell_type": "markdown",
   "metadata": {},
   "source": [
    "### 5. Dictionary of Squares (1 to 15)\n",
    "Write a Python script to print a dictionary where the keys are numbers between 1 and 15 (both included) and the values are the square of the keys.\n",
    "\n",
    "Expected Output:\n",
    "\n",
    "{1: 1, 2: 4, 3: 9, 4: 16, 5: 25, 6: 36, 7: 49, 8: 64, 9: 81, 10: 100, 11: 121, 12: 144, 13: 169, 14: 196, 15: 225}"
   ]
  },
  {
   "cell_type": "code",
   "execution_count": 12,
   "metadata": {},
   "outputs": [
    {
     "name": "stdout",
     "output_type": "stream",
     "text": [
      "Generated dictionary: {1: 1, 2: 4, 3: 9, 4: 16, 5: 25, 6: 36, 7: 49, 8: 64, 9: 81, 10: 100, 11: 121, 12: 144, 13: 169, 14: 196, 15: 225}\n"
     ]
    }
   ],
   "source": [
    "n = int(input(\"Enter a number: \"))\n",
    "\n",
    "squares = {}\n",
    "for x in range(1, n + 1):\n",
    "    squares[x] = x ** 2\n",
    "\n",
    "print(\"Generated dictionary:\", squares)"
   ]
  },
  {
   "cell_type": "markdown",
   "metadata": {},
   "source": [
    "## Set Exercices"
   ]
  },
  {
   "cell_type": "markdown",
   "metadata": {},
   "source": [
    "### 1. Create a Set\n",
    "Write a Python program to create a set."
   ]
  },
  {
   "cell_type": "code",
   "execution_count": 13,
   "metadata": {},
   "outputs": [
    {
     "data": {
      "text/plain": [
       "{'German', 'Heil', 'KKKlan', 'Kanye West'}"
      ]
     },
     "execution_count": 13,
     "metadata": {},
     "output_type": "execute_result"
    }
   ],
   "source": [
    "my_set = {'KKKlan', 'Kanye West', 'Heil', 'German'}\n",
    "my_set"
   ]
  },
  {
   "cell_type": "code",
   "execution_count": 14,
   "metadata": {},
   "outputs": [
    {
     "name": "stdout",
     "output_type": "stream",
     "text": [
      "<class 'set'>\n"
     ]
    }
   ],
   "source": [
    "fruits = ('apple', 'banana', 'grapes', 'mango')\n",
    "\n",
    "fruits_set = set(fruits)\n",
    "\n",
    "print(type(fruits_set))"
   ]
  },
  {
   "cell_type": "markdown",
   "metadata": {},
   "source": [
    "### 2. Iterate Over a Set\n",
    "Write a Python program to iterate over sets."
   ]
  },
  {
   "cell_type": "code",
   "execution_count": 15,
   "metadata": {},
   "outputs": [
    {
     "name": "stdout",
     "output_type": "stream",
     "text": [
      "mango\n",
      "grapes\n",
      "apple\n",
      "banana\n"
     ]
    }
   ],
   "source": [
    "for x in fruits_set:\n",
    "    print(x)"
   ]
  },
  {
   "cell_type": "markdown",
   "metadata": {},
   "source": [
    "### 3. Add Member(s) to a Set\n",
    "Write a Python program to add member(s) to a set."
   ]
  },
  {
   "cell_type": "code",
   "execution_count": 16,
   "metadata": {},
   "outputs": [
    {
     "data": {
      "text/plain": [
       "{'Mbappe', 'Messi', 'Neymar', 'Ronaldo'}"
      ]
     },
     "execution_count": 16,
     "metadata": {},
     "output_type": "execute_result"
    }
   ],
   "source": [
    "players = {'Messi', 'Ronaldo', 'Neymar'}\n",
    "\n",
    "players.add('Mbappe')\n",
    "\n",
    "players"
   ]
  },
  {
   "cell_type": "code",
   "execution_count": 17,
   "metadata": {},
   "outputs": [
    {
     "data": {
      "text/plain": [
       "{'Alice', 'Bob', 'Charlie', 'Dave', 'Eve'}"
      ]
     },
     "execution_count": 17,
     "metadata": {},
     "output_type": "execute_result"
    }
   ],
   "source": [
    "players = {\"Alice\", \"Bob\", \"Charlie\"}\n",
    "\n",
    "members = {\"Dave\", \"Eve\", \"Charlie\"}\n",
    "\n",
    "players.update(members)\n",
    "\n",
    "players"
   ]
  },
  {
   "cell_type": "markdown",
   "metadata": {},
   "source": [
    "### 4. Remove Item(s) from a Set\n",
    "Write a Python program to remove item(s) from a given set."
   ]
  },
  {
   "cell_type": "code",
   "execution_count": 19,
   "metadata": {},
   "outputs": [
    {
     "data": {
      "text/plain": [
       "{'Bob', 'Heidi'}"
      ]
     },
     "execution_count": 19,
     "metadata": {},
     "output_type": "execute_result"
    }
   ],
   "source": [
    "coaches = {\"Grace\", \"Heidi\", \"Bob\"}\n",
    "\n",
    "coaches.remove(\"Grace\")\n",
    "\n",
    "coaches"
   ]
  },
  {
   "cell_type": "code",
   "execution_count": 20,
   "metadata": {},
   "outputs": [
    {
     "data": {
      "text/plain": [
       "{245, 356, 456}"
      ]
     },
     "execution_count": 20,
     "metadata": {},
     "output_type": "execute_result"
    }
   ],
   "source": [
    "numbers = {243, 356, 245, 456}\n",
    "\n",
    "numbers.discard(243)\n",
    "\n",
    "numbers"
   ]
  },
  {
   "cell_type": "markdown",
   "metadata": {},
   "source": [
    "### 5. Remove an Item if Present in the Set\n",
    "Write a Python program to remove an item from a set if it is present in the set."
   ]
  },
  {
   "cell_type": "code",
   "execution_count": 25,
   "metadata": {},
   "outputs": [
    {
     "name": "stdout",
     "output_type": "stream",
     "text": [
      "{'Alice', 'Dave', 'Eve', 'Bob'}\n"
     ]
    }
   ],
   "source": [
    "players = {\"Alice\", \"Bob\", \"Charlie\"}\n",
    "\n",
    "members = {\"Dave\", \"Eve\", \"Charlie\"}\n",
    "\n",
    "everyone = players.union(members)\n",
    "\n",
    "item = 'Charlie'\n",
    "\n",
    "if item in everyone:\n",
    "    everyone.remove(item)\n",
    "\n",
    "print(everyone)"
   ]
  }
 ],
 "metadata": {
  "kernelspec": {
   "display_name": "base",
   "language": "python",
   "name": "python3"
  },
  "language_info": {
   "codemirror_mode": {
    "name": "ipython",
    "version": 3
   },
   "file_extension": ".py",
   "mimetype": "text/x-python",
   "name": "python",
   "nbconvert_exporter": "python",
   "pygments_lexer": "ipython3",
   "version": "3.12.7"
  }
 },
 "nbformat": 4,
 "nbformat_minor": 2
}

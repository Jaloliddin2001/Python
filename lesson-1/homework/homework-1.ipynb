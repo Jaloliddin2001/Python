{
 "cells": [
  {
   "cell_type": "markdown",
   "metadata": {},
   "source": [
    "## Homework:\n",
    "\n",
    "Given a side of square. Find its perimeter and area.\n",
    "Given diameter of circle. Find its length.\n",
    "Given two numbers a and b. Find their mean.\n",
    "Given two numbers a and b. Find their sum, product and square of each number."
   ]
  },
  {
   "cell_type": "markdown",
   "metadata": {},
   "source": [
    "## 1.Given a side of square. Find its perimeter and area."
   ]
  },
  {
   "cell_type": "code",
   "execution_count": 2,
   "metadata": {},
   "outputs": [
    {
     "name": "stdout",
     "output_type": "stream",
     "text": [
      "32\n"
     ]
    }
   ],
   "source": [
    "side_length = 8\n",
    "perimeter = 4\n",
    "\n",
    "print(perimeter*side_length)\n",
    "\n"
   ]
  },
  {
   "cell_type": "code",
   "execution_count": 3,
   "metadata": {},
   "outputs": [
    {
     "name": "stdout",
     "output_type": "stream",
     "text": [
      "64\n"
     ]
    }
   ],
   "source": [
    "side_length = 8\n",
    "area = 2\n",
    "\n",
    "print(side_length**area)"
   ]
  },
  {
   "cell_type": "markdown",
   "metadata": {},
   "source": [
    "## 2.Given diameter of circle. Find its length."
   ]
  },
  {
   "cell_type": "code",
   "execution_count": 4,
   "metadata": {},
   "outputs": [
    {
     "name": "stdout",
     "output_type": "stream",
     "text": [
      "25.12\n"
     ]
    }
   ],
   "source": [
    "pi = 3.14\n",
    "diameter = 8\n",
    "\n",
    "cirumference = pi*diameter\n",
    "\n",
    "print(cirumference)"
   ]
  },
  {
   "cell_type": "markdown",
   "metadata": {},
   "source": [
    "## 3. Given two numbers a and b. Find their mean."
   ]
  },
  {
   "cell_type": "code",
   "execution_count": 5,
   "metadata": {},
   "outputs": [
    {
     "name": "stdout",
     "output_type": "stream",
     "text": [
      "24.0\n"
     ]
    }
   ],
   "source": [
    "a = 32\n",
    "b = 16\n",
    "\n",
    "mean = (a+b)/2\n",
    "\n",
    "print(mean)"
   ]
  },
  {
   "cell_type": "markdown",
   "metadata": {},
   "source": [
    "## 4.Given two numbers a and b. Find their sum, product and square of each number."
   ]
  },
  {
   "cell_type": "code",
   "execution_count": 6,
   "metadata": {},
   "outputs": [
    {
     "name": "stdout",
     "output_type": "stream",
     "text": [
      "43\n",
      "450\n",
      "14551915228366851806640625\n"
     ]
    }
   ],
   "source": [
    "a = 25\n",
    "b = 18\n",
    "\n",
    "sum = a+b\n",
    "product = a*b\n",
    "square = a**b\n",
    "\n",
    "print(sum)\n",
    "print(product)\n",
    "print(square)"
   ]
  }
 ],
 "metadata": {
  "kernelspec": {
   "display_name": "base",
   "language": "python",
   "name": "python3"
  },
  "language_info": {
   "codemirror_mode": {
    "name": "ipython",
    "version": 3
   },
   "file_extension": ".py",
   "mimetype": "text/x-python",
   "name": "python",
   "nbconvert_exporter": "python",
   "pygments_lexer": "ipython3",
   "version": "3.12.7"
  }
 },
 "nbformat": 4,
 "nbformat_minor": 2
}

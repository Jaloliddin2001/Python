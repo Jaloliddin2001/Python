{
 "cells": [
  {
   "cell_type": "markdown",
   "metadata": {},
   "source": [
    "A year is a leap year if:\n",
    "- It is divisible by 4, and\n",
    "- It is NOT divisible by 100, unless it is also divisible by 400.\n",
    "\n",
    "Parameters:\n",
    "year (int): The year to be checked.\n",
    "\n",
    "Returns:\n",
    "bool: True if the year is a leap year, False otherwise.\n",
    "\"\"\"\n",
    "if not isinstance(year, int):\n",
    "    raise ValueError(\"Year must be an integer.\")\n",
    "\n",
    "return (year % 4 == 0 and year % 100 != 0) or (year % 400 == 0)"
   ]
  },
  {
   "cell_type": "code",
   "execution_count": 8,
   "metadata": {},
   "outputs": [
    {
     "name": "stdout",
     "output_type": "stream",
     "text": [
      "2016 Leap Year\n"
     ]
    }
   ],
   "source": [
    "year = int(input(\"Yilni kiriting: \"))\n",
    "\n",
    "if year % 4 == 0 and year % 100 != 0 or year % 400 == 0:\n",
    "    print(year,\"Leap Year\")\n",
    "else:\n",
    "    print(year,\"Not a Leap Year\")"
   ]
  },
  {
   "cell_type": "code",
   "execution_count": 9,
   "metadata": {},
   "outputs": [
    {
     "name": "stdout",
     "output_type": "stream",
     "text": [
      "2016 It's a leap year\n"
     ]
    }
   ],
   "source": [
    "year = int(input(\"Yilni kiriting: \"))\n",
    "\n",
    "if year % 4 == 0:\n",
    "    if year % 100 == 0:\n",
    "        if year % 400 == 0:\n",
    "            print(\"It's a leap year\")\n",
    "        else:\n",
    "            print(year,\"It's not a leap year\")\n",
    "    else:\n",
    "        print(year,\"It's a leap year\")\n",
    "else:\n",
    "    print(year,\"It's not a leap year\")"
   ]
  },
  {
   "cell_type": "markdown",
   "metadata": {},
   "source": [
    "## 2. Conditional Statements Exercise\n",
    "Given an integer, n, perform the following conditional actions:\n",
    "\n",
    "If n is odd, print Weird\n",
    "If n is even and in the inclusive range of 2 to 5, print Not Weird\n",
    "If n is even and in the inclusive range of 6 to 20, print Weird\n",
    "If n is even and greater than 20, print Not Weird\n",
    "Input Format\n",
    "A single line containing a positive integer, n.\n",
    "\n",
    "Constraints\n",
    "1 <= n <= 100\n",
    "Output Format\n",
    "Print Weird if the number is weird. Otherwise, print Not Weird.\n",
    "\n",
    "Sample Input 0\n",
    "3\n",
    "Sample Output 0\n",
    "Weird"
   ]
  },
  {
   "cell_type": "code",
   "execution_count": 19,
   "metadata": {},
   "outputs": [
    {
     "name": "stdout",
     "output_type": "stream",
     "text": [
      "Number out of range!\n"
     ]
    }
   ],
   "source": [
    "n = int(input(\"Please enter numbers in range 1 and 100:\"))\n",
    "\n",
    "if n < 1 or n > 100:\n",
    "    print(\"Number out of range!\")\n",
    "else:\n",
    "    if n % 2 != 0:\n",
    "        print(\"Weird\")\n",
    "    elif n % 2 == 0 and 2 <= n <= 5:\n",
    "        print(\"Not Weird\")\n",
    "    elif n % 2 == 0 and 6 <= n <= 20:\n",
    "        print(\"Weird\")\n",
    "    elif n % 2 == 0 and n > 20:\n",
    "        print(\"Not Weird\")"
   ]
  },
  {
   "cell_type": "markdown",
   "metadata": {},
   "source": [
    "## 3. Given two integer numbers a and b. Find even numbers between this numbers. a and b are inclusive. Don't use loop.\n",
    "Give two solutions.\n",
    "\n",
    "Solution 1 with if-else statement.\n",
    "\n",
    "Solution 2 without if-else statement."
   ]
  },
  {
   "cell_type": "code",
   "execution_count": null,
   "metadata": {},
   "outputs": [],
   "source": [
    "a = int(input('Enter a number:'))\n",
    "b = int(input('Enter a number:'))\n",
    "\n",
    "if a % 2 == 0 and b % 2 == 0:"
   ]
  }
 ],
 "metadata": {
  "kernelspec": {
   "display_name": "base",
   "language": "python",
   "name": "python3"
  },
  "language_info": {
   "codemirror_mode": {
    "name": "ipython",
    "version": 3
   },
   "file_extension": ".py",
   "mimetype": "text/x-python",
   "name": "python",
   "nbconvert_exporter": "python",
   "pygments_lexer": "ipython3",
   "version": "3.12.7"
  }
 },
 "nbformat": 4,
 "nbformat_minor": 2
}

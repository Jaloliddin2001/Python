{
 "cells": [
  {
   "cell_type": "markdown",
   "metadata": {},
   "source": [
    "### 1. Age Calculator: Ask the user to enter their birthdate. Calculate and print their age in years, months, and days."
   ]
  },
  {
   "cell_type": "code",
   "execution_count": 8,
   "metadata": {},
   "outputs": [
    {
     "name": "stdout",
     "output_type": "stream",
     "text": [
      "Years: 24\n",
      "Months: 292\n",
      "Days: 8892\n"
     ]
    }
   ],
   "source": [
    "# birthdate = int(input(\"Please enter your birthdate:\"))\n",
    "\n",
    "# print(\"Your age:\",2025 - birthdate)\n",
    "\n",
    "# dob = date(2000, 3, 11)\n",
    "\n",
    "from datetime import date\n",
    "\n",
    "year = int(input(\"Enter your year of birth (e.g., 2000): \"))\n",
    "month = int(input(\"Enter your month of birth (1-12): \"))\n",
    "day = int(input(\"Enter your day of birth (1-31): \"))\n",
    "\n",
    "dob = date(year,month,day)\n",
    "\n",
    "today = date.today()\n",
    "time_differences = today - dob\n",
    "\n",
    "d = time_differences.days\n",
    "m = int((d/365)*12)\n",
    "y = int(d/365)\n",
    "\n",
    "print(f\"Years: {y}\")\n",
    "print(f\"Months: {m}\")\n",
    "print(f\"Days: {d}\")"
   ]
  },
  {
   "cell_type": "markdown",
   "metadata": {},
   "source": [
    "### 2. Days Until Next Birthday: Similar to the first exercise, but this time, calculate and print the number of days remaining until the user's next birthday.\n"
   ]
  },
  {
   "cell_type": "code",
   "execution_count": 9,
   "metadata": {},
   "outputs": [
    {
     "name": "stdout",
     "output_type": "stream",
     "text": [
      "Your next birthday is in 239 day(s) on March, 11, 2026\n"
     ]
    }
   ],
   "source": [
    "from datetime import datetime, date, timedelta\n",
    "\n",
    "year = int(input(\"Enter your year of birth (e.g., 2000): \"))\n",
    "month = int(input(\"Enter your month of birth (1-12): \"))\n",
    "day = int(input(\"Enter your day of birth (1-31): \"))\n",
    "\n",
    "today = date.today()\n",
    "\n",
    "this_year_bd = date(today.year, month, day)\n",
    "\n",
    "if this_year_bd < today:\n",
    "    next_year_bd = date(today.year + 1, month, day)\n",
    "else:\n",
    "    next_year_bd = this_year_bd\n",
    "\n",
    "days_remaining = (next_year_bd - today).days\n",
    "\n",
    "print(f\"Your next birthday is in {days_remaining} day(s) on {next_year_bd.strftime('%B, %d, %Y')}\")"
   ]
  },
  {
   "cell_type": "markdown",
   "metadata": {},
   "source": [
    "### 3. Meeting Scheduler: Ask the user to enter the current date and time, as well as the duration of a meeting in hours and minutes. Calculate and print the date and time when the meeting will end."
   ]
  },
  {
   "cell_type": "code",
   "execution_count": null,
   "metadata": {},
   "outputs": [
    {
     "name": "stdout",
     "output_type": "stream",
     "text": [
      "Meeting will end at: 2025-07-15 20:21\n"
     ]
    }
   ],
   "source": [
    "from datetime import datetime, date, timedelta\n",
    "\n",
    "current_str = input(\"Enter current date and time (YY-MM-DD HH:MM)\")\n",
    "\n",
    "current_dt = datetime.strptime(current_str, \"%Y-%m-%d %H:%M\")\n",
    "\n",
    "hours = int(input(\"Enter meeting duration - hours: \"))\n",
    "minutes = int(input(\"Enter meeting duration - minutes: \"))\n",
    "\n",
    "duration = timedelta(hours=hours, minutes=minutes)\n",
    "end_time = current_dt + duration\n",
    "\n",
    "print(\"Meeting will end at:\", end_time.strftime(\"%Y-%m-%d %H:%M\"))"
   ]
  },
  {
   "cell_type": "markdown",
   "metadata": {},
   "source": [
    "### 4. Timezone Converter: Create a program that allows the user to enter a date and time along with their current timezone, and then convert and print the date and time in another timezone of their choice."
   ]
  },
  {
   "cell_type": "markdown",
   "metadata": {},
   "source": [
    "### 5. Countdown Timer: Implement a countdown timer. Ask the user to input a future date and time, and then continuously print the time remaining until that point in regular intervals (e.g., every second).\n"
   ]
  },
  {
   "cell_type": "code",
   "execution_count": null,
   "metadata": {},
   "outputs": [],
   "source": [
    "from datetime import datetime\n",
    "import time\n",
    "\n",
    "target_str = input(\"Enter a future date and time (YYYY-MM-DD HH:MM:SS): \")\n",
    "\n",
    "target_time = datetime.strptime(target_str, \"%Y-%m-%d %H:%M:%S\")\n",
    "\n"
   ]
  },
  {
   "cell_type": "markdown",
   "metadata": {},
   "source": [
    "### 6. Email Validator: Write a program that validates email addresses. Ask the user to input an email address, and check if it follows a valid email format.\n"
   ]
  },
  {
   "cell_type": "code",
   "execution_count": 12,
   "metadata": {},
   "outputs": [
    {
     "name": "stdout",
     "output_type": "stream",
     "text": [
      "This is valid email!\n"
     ]
    }
   ],
   "source": [
    "import re\n",
    "\n",
    "email_pattern = r\"^[a-zA-Z0-9._%+-]+@[a-zA-Z0-9.-]+\\.[a-zA-Z]{2,}$\"\n",
    "\n",
    "email = input(\"Enter an email address: \")\n",
    "\n",
    "if re.match(email_pattern, email):\n",
    "    print(\"This is valid email!\")\n",
    "else:\n",
    "    print(\"This is not a valid email!\")"
   ]
  },
  {
   "cell_type": "markdown",
   "metadata": {},
   "source": [
    "### 7. Phone Number Formatter: Create a program that takes a phone number as input and formats it according to a standard format. For example, convert \"1234567890\" to \"(123) 456-7890\".\n"
   ]
  },
  {
   "cell_type": "code",
   "execution_count": 14,
   "metadata": {},
   "outputs": [
    {
     "name": "stdout",
     "output_type": "stream",
     "text": [
      "Formatted Phone Number: (123) 456-7890\n"
     ]
    }
   ],
   "source": [
    "import re\n",
    "\n",
    "phone = input(\"Enter a 10-digit phone number (digits only): \")\n",
    "\n",
    "digits = re.sub(r'\\D', '', phone)\n",
    "\n",
    "if len(digits) == 10:\n",
    "    formatted = f\"({digits[0:3]}) {digits[3:6]}-{digits[6:10]}\"\n",
    "    print(\"Formatted Phone Number:\", formatted)\n",
    "else:\n",
    "    print(\"Invalid input. Please enter exactly 10 digits.\")\n"
   ]
  },
  {
   "cell_type": "markdown",
   "metadata": {},
   "source": [
    "### 8. Password Strength Checker: Implement a password strength checker. Ask the user to input a password and check if it meets certain criteria (e.g., minimum length, contains at least one uppercase letter, one lowercase letter, and one digit)."
   ]
  },
  {
   "cell_type": "code",
   "execution_count": 15,
   "metadata": {},
   "outputs": [
    {
     "name": "stdout",
     "output_type": "stream",
     "text": [
      "Weak password!\n"
     ]
    }
   ],
   "source": [
    "import re\n",
    "\n",
    "password = input(\"Please enter a password: \")\n",
    "\n",
    "patterns = r\"^[a-zA-Z0-9._%+-]+@[a-zA-Z0-9.-]+\\.[a-zA-Z]{2,}$\"\n",
    "\n",
    "if re.match(patterns, password):\n",
    "    print(\"A solid password!\")\n",
    "else:\n",
    "    print(\"Weak password!\")"
   ]
  },
  {
   "cell_type": "markdown",
   "metadata": {},
   "source": [
    "### 9. Word Finder: Develop a program that finds all occurrences of a specific word in a given text. Ask the user to input a word, and then search for and print all occurrences of that word in a sample text."
   ]
  },
  {
   "cell_type": "markdown",
   "metadata": {},
   "source": [
    "### 10. Date Extractor: Write a program that extracts dates from a given text. Ask the user to input a text, and then identify and print all the dates present in the text."
   ]
  }
 ],
 "metadata": {
  "kernelspec": {
   "display_name": "base",
   "language": "python",
   "name": "python3"
  },
  "language_info": {
   "codemirror_mode": {
    "name": "ipython",
    "version": 3
   },
   "file_extension": ".py",
   "mimetype": "text/x-python",
   "name": "python",
   "nbconvert_exporter": "python",
   "pygments_lexer": "ipython3",
   "version": "3.12.7"
  }
 },
 "nbformat": 4,
 "nbformat_minor": 2
}

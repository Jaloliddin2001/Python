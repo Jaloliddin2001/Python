{
 "cells": [
  {
   "cell_type": "markdown",
   "metadata": {},
   "source": [
    "## 1. Create and Access List Elements\n",
    "Create a list containing five different fruits and print the third fruit.\n",
    "\n"
   ]
  },
  {
   "cell_type": "code",
   "execution_count": 1,
   "metadata": {},
   "outputs": [
    {
     "name": "stdout",
     "output_type": "stream",
     "text": [
      "cherry\n"
     ]
    }
   ],
   "source": [
    "fruits = ['banana', 'apple', 'cherry', 'watermelon', 'strawberry']\n",
    "\n",
    "print(fruits[2])"
   ]
  },
  {
   "cell_type": "markdown",
   "metadata": {},
   "source": [
    "## 2. Concatenate Two Lists\n",
    "Create two lists of numbers and concatenate them into a single list."
   ]
  },
  {
   "cell_type": "code",
   "execution_count": 2,
   "metadata": {},
   "outputs": [
    {
     "data": {
      "text/plain": [
       "[24, 28, 32, 36, 25, 27, 29, 31]"
      ]
     },
     "execution_count": 2,
     "metadata": {},
     "output_type": "execute_result"
    }
   ],
   "source": [
    "num1 = [24, 28, 32, 36]\n",
    "num2 = [25, 27, 29, 31]\n",
    "\n",
    "num1.extend(num2)\n",
    "\n",
    "num1\n"
   ]
  },
  {
   "cell_type": "markdown",
   "metadata": {},
   "source": [
    "## 3. Extract Elements from a List\n",
    "Given a list of numbers, extract the first, middle, and last elements and store them in a new list."
   ]
  },
  {
   "cell_type": "code",
   "execution_count": 4,
   "metadata": {},
   "outputs": [
    {
     "data": {
      "text/plain": [
       "[25, 68, 104]"
      ]
     },
     "execution_count": 4,
     "metadata": {},
     "output_type": "execute_result"
    }
   ],
   "source": [
    "numbers = [25, 32, 56, 68, 96, 104]\n",
    "\n",
    "first = numbers[0]\n",
    "middle = numbers[len(numbers)//2]\n",
    "last = numbers[-1]\n",
    "\n",
    "new_list = [first, middle, last]\n",
    "\n",
    "new_list"
   ]
  },
  {
   "cell_type": "markdown",
   "metadata": {},
   "source": [
    "## 4. Convert List to Tuple\n",
    "Create a list of your five favorite movies and convert it into a tuple."
   ]
  },
  {
   "cell_type": "code",
   "execution_count": 6,
   "metadata": {},
   "outputs": [
    {
     "name": "stdout",
     "output_type": "stream",
     "text": [
      "('Seven', 'Fight Club', 'Inglorious Basterds', 'Django Unchained', 'Inception')\n",
      "<class 'tuple'>\n"
     ]
    }
   ],
   "source": [
    "movies = ['Seven', 'Fight Club', 'Inglorious Basterds', 'Django Unchained', 'Inception']\n",
    "\n",
    "movies2 = tuple(movies)\n",
    "\n",
    "print(movies2)\n",
    "print(type(movies2))"
   ]
  },
  {
   "cell_type": "markdown",
   "metadata": {},
   "source": [
    "## 5. Check Element in a List\n",
    "Given a list of cities, check if \"Paris\" is in the list and print the result."
   ]
  },
  {
   "cell_type": "code",
   "execution_count": 7,
   "metadata": {},
   "outputs": [
    {
     "name": "stdout",
     "output_type": "stream",
     "text": [
      "Paries in cities\n"
     ]
    }
   ],
   "source": [
    "cities = ['Moscow', 'Tashkent', 'Dubai', 'Paris', 'Berlin']\n",
    "\n",
    "if 'Paris' in cities:\n",
    "    print('Paries in cities')\n",
    "else:\n",
    "    print(\"Paris is not in cities\")"
   ]
  },
  {
   "cell_type": "markdown",
   "metadata": {},
   "source": [
    "## 6. Duplicate a List Without Using Loops\n",
    "Create a list of numbers and duplicate it without using loops."
   ]
  },
  {
   "cell_type": "code",
   "execution_count": 12,
   "metadata": {},
   "outputs": [
    {
     "name": "stdout",
     "output_type": "stream",
     "text": [
      "[25, 28, 32, 36, 44, 56, 25, 28, 32, 36, 44, 56]\n"
     ]
    }
   ],
   "source": [
    "numbers = [25, 28, 32, 36, 44, 56]\n",
    "\n",
    "dupilcate = numbers * 2\n",
    "\n",
    "print(dupilcate)\n"
   ]
  },
  {
   "cell_type": "markdown",
   "metadata": {},
   "source": [
    "## 7. Swap First and Last Elements of a List\n",
    "Given a list of numbers, swap the first and last elements."
   ]
  },
  {
   "cell_type": "code",
   "execution_count": 16,
   "metadata": {},
   "outputs": [
    {
     "data": {
      "text/plain": [
       "[56, 28, 32, 36, 44, 25]"
      ]
     },
     "execution_count": 16,
     "metadata": {},
     "output_type": "execute_result"
    }
   ],
   "source": [
    "numbers = [25, 28, 32, 36, 44, 56]\n",
    "\n",
    "numbers[0],numbers[-1] = numbers[-1], numbers[0]\n",
    "\n",
    "numbers"
   ]
  },
  {
   "cell_type": "markdown",
   "metadata": {},
   "source": [
    "## 8. Slice a Tuple\n",
    "Create a tuple of numbers from 1 to 10 and print a slice from index 3 to 7."
   ]
  },
  {
   "cell_type": "code",
   "execution_count": 18,
   "metadata": {},
   "outputs": [
    {
     "name": "stdout",
     "output_type": "stream",
     "text": [
      "(4, 5, 6, 7)\n"
     ]
    }
   ],
   "source": [
    "numbs = 1, 2, 3, 4, 5, 6, 7, 8, 9, 10\n",
    "\n",
    "print(numbs[3:7])"
   ]
  },
  {
   "cell_type": "markdown",
   "metadata": {},
   "source": [
    "## 9. Count Occurrences in a List\n",
    "Create a list of colors and count how many times \"blue\" appears in the list."
   ]
  },
  {
   "cell_type": "code",
   "execution_count": 23,
   "metadata": {},
   "outputs": [
    {
     "name": "stdout",
     "output_type": "stream",
     "text": [
      "2\n"
     ]
    }
   ],
   "source": [
    "colors = ['red', 'yellow', 'blue', 'green', 'blue', 'black']\n",
    "\n",
    "count = colors.count('blue')\n",
    "\n",
    "print(count)"
   ]
  },
  {
   "cell_type": "markdown",
   "metadata": {},
   "source": [
    "## 10. Find the Index of an Element in a Tuple\n",
    "Given a tuple of animals, find the index of \"lion\"."
   ]
  },
  {
   "cell_type": "code",
   "execution_count": 24,
   "metadata": {},
   "outputs": [
    {
     "name": "stdout",
     "output_type": "stream",
     "text": [
      "2\n"
     ]
    }
   ],
   "source": [
    "animals = (\"cat\", \"dog\", \"lion\", \"tiger\", \"elephant\")\n",
    "\n",
    "print(animals.index(\"lion\"))"
   ]
  },
  {
   "cell_type": "markdown",
   "metadata": {},
   "source": [
    "## 11. Merge Two Tuples\n",
    "Create two tuples of numbers and merge them into a single tuple."
   ]
  },
  {
   "cell_type": "code",
   "execution_count": 25,
   "metadata": {},
   "outputs": [
    {
     "data": {
      "text/plain": [
       "(25, 27, 29, 32, 33, 36, 29, 43)"
      ]
     },
     "execution_count": 25,
     "metadata": {},
     "output_type": "execute_result"
    }
   ],
   "source": [
    "numb1 = 25, 27, 29, 32\n",
    "numb2 = 33, 36, 29, 43\n",
    "\n",
    "joined = numb1 + numb2\n",
    "\n",
    "joined"
   ]
  },
  {
   "cell_type": "markdown",
   "metadata": {},
   "source": [
    "## 12. Find the Length of a List and Tuple\n",
    "Given a list and a tuple, find and print their lengths."
   ]
  },
  {
   "cell_type": "code",
   "execution_count": 26,
   "metadata": {},
   "outputs": [
    {
     "name": "stdout",
     "output_type": "stream",
     "text": [
      "5\n",
      "3\n"
     ]
    }
   ],
   "source": [
    "my_list = [1, 2, 3, 4, 5]\n",
    "my_tuple = (\"apple\", \"banana\", \"cherry\")\n",
    "\n",
    "print(len(my_list))\n",
    "print(len(my_tuple))"
   ]
  },
  {
   "cell_type": "markdown",
   "metadata": {},
   "source": [
    "## 13. Convert Tuple to List\n",
    "Create a tuple of five numbers and convert it into a list."
   ]
  },
  {
   "cell_type": "code",
   "execution_count": 27,
   "metadata": {},
   "outputs": [
    {
     "data": {
      "text/plain": [
       "[67, 69, 32, 65, 46]"
      ]
     },
     "execution_count": 27,
     "metadata": {},
     "output_type": "execute_result"
    }
   ],
   "source": [
    "tuple_numb = 67, 69, 32, 65, 46\n",
    "list_numb = list(tuple_numb)\n",
    "list_numb"
   ]
  },
  {
   "cell_type": "markdown",
   "metadata": {},
   "source": [
    "## 14. Find Maximum and Minimum in a Tuple\n",
    "Given a tuple of numbers, find and print the maximum and minimum values."
   ]
  },
  {
   "cell_type": "code",
   "execution_count": 28,
   "metadata": {},
   "outputs": [
    {
     "name": "stdout",
     "output_type": "stream",
     "text": [
      "69\n",
      "32\n"
     ]
    }
   ],
   "source": [
    "tuple_numb = 67, 69, 32, 65, 46\n",
    "\n",
    "print(max(tuple_numb))\n",
    "print(min(tuple_numb))"
   ]
  },
  {
   "cell_type": "markdown",
   "metadata": {},
   "source": [
    "## 15. Reverse a Tuple\n",
    "Create a tuple of words and print it in reverse order."
   ]
  },
  {
   "cell_type": "code",
   "execution_count": 29,
   "metadata": {},
   "outputs": [
    {
     "name": "stdout",
     "output_type": "stream",
     "text": [
      "('date', 'cherry', 'banana', 'apple')\n"
     ]
    }
   ],
   "source": [
    "words = (\"apple\", \"banana\", \"cherry\", \"date\")\n",
    "print(words[::-1])"
   ]
  }
 ],
 "metadata": {
  "kernelspec": {
   "display_name": "base",
   "language": "python",
   "name": "python3"
  },
  "language_info": {
   "codemirror_mode": {
    "name": "ipython",
    "version": 3
   },
   "file_extension": ".py",
   "mimetype": "text/x-python",
   "name": "python",
   "nbconvert_exporter": "python",
   "pygments_lexer": "ipython3",
   "version": "3.12.7"
  }
 },
 "nbformat": 4,
 "nbformat_minor": 2
}

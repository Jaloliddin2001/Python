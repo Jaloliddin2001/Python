{
 "cells": [
  {
   "cell_type": "markdown",
   "metadata": {},
   "source": [
    "### 1. Task: JSON Parsing\n",
    "#### write a Python script that reads the students.jon JSON file and prints details of each student.\n"
   ]
  },
  {
   "cell_type": "code",
   "execution_count": 3,
   "metadata": {},
   "outputs": [
    {
     "name": "stdout",
     "output_type": "stream",
     "text": [
      "{'name': 'Ali', 'age': 30, 'skills': ['Python', 'SQL']}\n"
     ]
    }
   ],
   "source": [
    "import json\n",
    "\n",
    "data = {\"name\": \"Ali\", \"age\": 30, \"skills\": [\"Python\", \"SQL\"]}\n",
    "\n",
    "json_str = json.dumps(data)\n",
    "\n",
    "with open(\"students.json\", \"w\") as f:\n",
    "    json.dump(data, f)\n",
    "\n",
    "with open(\"students.json\", \"r\") as f:\n",
    "    loaded_data = json.load(f)\n",
    "    print(loaded_data)\n",
    "\n"
   ]
  },
  {
   "cell_type": "markdown",
   "metadata": {},
   "source": [
    "### 2. Task: Weather API\n",
    "#### Use this url : https://openweathermap.org/\n",
    "#### Use the requests library to fetch weather data for a specific city(ex. your hometown: Tashkent) and print relevant information (temperature, humidity, etc.).\n"
   ]
  },
  {
   "cell_type": "code",
   "execution_count": 7,
   "metadata": {},
   "outputs": [
    {
     "ename": "NameError",
     "evalue": "name 'city_name' is not defined",
     "output_type": "error",
     "traceback": [
      "\u001b[1;31m---------------------------------------------------------------------------\u001b[0m",
      "\u001b[1;31mNameError\u001b[0m                                 Traceback (most recent call last)",
      "Cell \u001b[1;32mIn[7], line 4\u001b[0m\n\u001b[0;32m      1\u001b[0m \u001b[38;5;28;01mimport\u001b[39;00m \u001b[38;5;21;01mrequests\u001b[39;00m\n\u001b[1;32m----> 4\u001b[0m url \u001b[38;5;241m=\u001b[39m \u001b[38;5;124mf\u001b[39m\u001b[38;5;124m\"\u001b[39m\u001b[38;5;124mhttp://api.openweathermap.org/data/2.5/weather?q=\u001b[39m\u001b[38;5;132;01m{\u001b[39;00mcity_name\u001b[38;5;132;01m}\u001b[39;00m\u001b[38;5;124m&appid=\u001b[39m\u001b[38;5;132;01m{\u001b[39;00mapi_key\u001b[38;5;132;01m}\u001b[39;00m\u001b[38;5;124m&units=metric\u001b[39m\u001b[38;5;124m\"\u001b[39m\n\u001b[0;32m      6\u001b[0m response \u001b[38;5;241m=\u001b[39m requests\u001b[38;5;241m.\u001b[39mget(url)\n\u001b[0;32m      8\u001b[0m \u001b[38;5;28;01mif\u001b[39;00m response\u001b[38;5;241m.\u001b[39mstatus_code \u001b[38;5;241m==\u001b[39m \u001b[38;5;241m200\u001b[39m:\n",
      "\u001b[1;31mNameError\u001b[0m: name 'city_name' is not defined"
     ]
    }
   ],
   "source": [
    "import requests\n",
    "\n",
    "\n",
    "url = f\"http://api.openweathermap.org/data/2.5/weather?q={city_name}&appid={api_key}&units=metric\"\n",
    "\n",
    "response = requests.get(url)\n",
    "\n",
    "if response.status_code == 200:\n",
    "    data = response.json()\n",
    "\n",
    "    temp = data[\"main\"][\"temp\"]\n",
    "    humidity = data[\"main\"][\"humidity\"]\n",
    "    weather_desc = data[\"weather\"][0][\"description\"]\n",
    "    wind_speed = data[\"wind\"][\"speed\"]\n",
    "\n",
    "print(f\"Weather in Tashkent:\")\n",
    "print(f\"Temperature: {temp}°C\")\n",
    "print(f\"Humidity: {humidity}%\")\n",
    "print(f\"Description: {weather_desc}\")\n",
    "print(f\"Wind Speed: {wind_speed} m/s\")\n"
   ]
  },
  {
   "cell_type": "markdown",
   "metadata": {},
   "source": [
    "### 3. Task: JSON Modification\n",
    "#### Write a program that allows users to add new books, update existing book information, and delete books from the books.json JSON file.\n"
   ]
  },
  {
   "cell_type": "code",
   "execution_count": 9,
   "metadata": {},
   "outputs": [
    {
     "name": "stdout",
     "output_type": "stream",
     "text": [
      "1. Add book\n",
      "2. Update book\n",
      "3. Delete book\n",
      "4. Exit\n",
      "Book added.\n",
      "\n",
      "1. Add book\n",
      "2. Update book\n",
      "3. Delete book\n",
      "4. Exit\n"
     ]
    }
   ],
   "source": [
    "import json\n",
    "\n",
    "filename = \"books.json\"\n",
    "\n",
    "try:\n",
    "    with open(filename, \"r\") as f:\n",
    "        books = json.load(f)\n",
    "except FileNotFoundError:\n",
    "    books = []\n",
    "\n",
    "def save():\n",
    "    with open(filename, \"w\") as f:\n",
    "        json.dump(books, f, indent=4)\n",
    "\n",
    "def add_book():\n",
    "    title = input(\"Title: \")\n",
    "    author = input(\"Author: \")\n",
    "    year = input(\"Year: \")\n",
    "    books.append({\"title\": title, \"author\": author, \"year\": year})\n",
    "    save()\n",
    "    print(\"Book added.\\n\")\n",
    "\n",
    "def update_book():\n",
    "    title = input(\"Enter the title of the book to update: \")\n",
    "    for book in books:\n",
    "        if book[\"title\"].lower() == title.lower():\n",
    "            book[\"author\"] = input(\"New Author: \") or book[\"author\"]\n",
    "            book[\"year\"] = input(\"New Year: \") or book[\"year\"]\n",
    "            save()\n",
    "            print(\"Book updated.\\n\")\n",
    "            return\n",
    "    print(\"Book not found.\\n\")\n",
    "\n",
    "def delete_book():\n",
    "    title = input(\"Enter the title of the book to delete: \")\n",
    "    for book in books:\n",
    "        if book[\"title\"].lower() == title.lower():\n",
    "            books.remove(book)\n",
    "            save()\n",
    "            print(\"Book deleted.\\n\")\n",
    "            return\n",
    "    print(\"Book not found.\\n\")\n",
    "\n",
    "def menu():\n",
    "    while True:\n",
    "        print(\"1. Add book\")\n",
    "        print(\"2. Update book\")\n",
    "        print(\"3. Delete book\")\n",
    "        print(\"4. Exit\")\n",
    "        choice = input(\"Choose an option: \")\n",
    "        if choice == \"1\":\n",
    "            add_book()\n",
    "        elif choice == \"2\":\n",
    "            update_book()\n",
    "        elif choice == \"3\":\n",
    "            delete_book()\n",
    "        elif choice == \"4\":\n",
    "            break\n",
    "        else:\n",
    "            print(\"Invalid option.\\n\")\n",
    "\n",
    "menu()\n"
   ]
  },
  {
   "cell_type": "markdown",
   "metadata": {},
   "source": [
    "### 4. Task: Movie Recommendation System\n",
    "#### Use this url http://www.omdbapi.com/ to fetch information about movies.\n",
    "#### Create a program that asks users for a movie genre and recommends a random movie from that genre."
   ]
  },
  {
   "cell_type": "markdown",
   "metadata": {},
   "source": []
  }
 ],
 "metadata": {
  "kernelspec": {
   "display_name": "base",
   "language": "python",
   "name": "python3"
  },
  "language_info": {
   "codemirror_mode": {
    "name": "ipython",
    "version": 3
   },
   "file_extension": ".py",
   "mimetype": "text/x-python",
   "name": "python",
   "nbconvert_exporter": "python",
   "pygments_lexer": "ipython3",
   "version": "3.12.7"
  }
 },
 "nbformat": 4,
 "nbformat_minor": 2
}
